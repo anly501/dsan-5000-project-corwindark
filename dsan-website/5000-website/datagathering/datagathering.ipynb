{
 "cells": [
  {
   "cell_type": "code",
   "execution_count": 1,
   "metadata": {},
   "outputs": [
    {
     "name": "stdout",
     "output_type": "stream",
     "text": [
      "           date ticker  activity  sentiment\n",
      "None                                       \n",
      "0    2023-09-28   TSLA    0.1305         -1\n",
      "1    2023-09-28   TQQQ    0.0218         -3\n",
      "2    2023-09-28   SQQQ    0.0180         -2\n",
      "3    2023-09-27   TSLA    0.1458         -3\n",
      "4    2023-09-27   TQQQ    0.0214         -4\n",
      "5    2023-09-27   SQQQ    0.0170         -2\n",
      "6    2023-09-26   TSLA    0.1249         -2\n",
      "7    2023-09-26   TQQQ    0.0180         -3\n",
      "8    2023-09-26   SQQQ    0.0161         -4\n"
     ]
    }
   ],
   "source": [
    "import pandas as pd\n",
    "import numpy as np\n",
    "import quandl\n",
    "import nasdaqdatalink\n",
    "\n",
    "\n",
    "quandl.ApiConfig.api_key = 'psq4nx69HDimf2kQcxZJ'\n",
    "table1 = quandl.get_table('NDAQ/RTAT10', date='2023-09-28,2023-09-27,2023-09-26', ticker='TSLA,TQQQ,SQQQ')\n",
    "\n",
    "print(table1)"
   ]
  }
 ],
 "metadata": {
  "kernelspec": {
   "display_name": "Python 3",
   "language": "python",
   "name": "python3"
  },
  "language_info": {
   "codemirror_mode": {
    "name": "ipython",
    "version": 3
   },
   "file_extension": ".py",
   "mimetype": "text/x-python",
   "name": "python",
   "nbconvert_exporter": "python",
   "pygments_lexer": "ipython3",
   "version": "3.11.3"
  },
  "orig_nbformat": 4
 },
 "nbformat": 4,
 "nbformat_minor": 2
}
